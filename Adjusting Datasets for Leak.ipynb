{
 "cells": [
  {
   "cell_type": "code",
   "execution_count": 1,
   "metadata": {
    "collapsed": false
   },
   "outputs": [],
   "source": [
    "import pandas as pd\n",
    "z = pd.read_csv('/Users/Ben/Desktop/Predicting Red Hat Business Value/datatest.csv')\n",
    "act_test = pd.read_csv('/Users/Ben/Desktop/Predicting Red Hat Business Value/act_test.csv')\n",
    "people = pd.read_csv('/Users/Ben/Desktop/Predicting Red Hat Business Value/people.csv')\n",
    "testData = act_test.merge(people,on = 'people_id')\n",
    "people = []\n",
    "act_test = []\n",
    "testData = testData[['group_1','date_x','activity_id']]"
   ]
  },
  {
   "cell_type": "code",
   "execution_count": null,
   "metadata": {
    "collapsed": true
   },
   "outputs": [],
   "source": [
    "merged = testData.merge(z,how='left',left_on = ['group_1','date_x'],right_on = ['group_1','date'])"
   ]
  },
  {
   "cell_type": "markdown",
   "metadata": {},
   "source": [
    "Okay so for some reason python cant figure out how to handle a dataframe of this size so i'll just split this into maybe 5 or so pandas dataframes and have them independently merge. Also let me make sure I have my merge statement down since this will be some serious data useage."
   ]
  },
  {
   "cell_type": "code",
   "execution_count": 12,
   "metadata": {
    "collapsed": false
   },
   "outputs": [
    {
     "data": {
      "text/html": [
       "<div>\n",
       "<table border=\"1\" class=\"dataframe\">\n",
       "  <thead>\n",
       "    <tr style=\"text-align: right;\">\n",
       "      <th></th>\n",
       "      <th>group_1</th>\n",
       "      <th>date_x</th>\n",
       "      <th>activity_id</th>\n",
       "      <th>Unnamed: 0</th>\n",
       "      <th>date</th>\n",
       "      <th>outcome</th>\n",
       "    </tr>\n",
       "  </thead>\n",
       "  <tbody>\n",
       "    <tr>\n",
       "      <th>0</th>\n",
       "      <td>group 22593</td>\n",
       "      <td>2022-07-20</td>\n",
       "      <td>act1_249281</td>\n",
       "      <td>5126853</td>\n",
       "      <td>2022-07-20</td>\n",
       "      <td>0.0</td>\n",
       "    </tr>\n",
       "    <tr>\n",
       "      <th>1</th>\n",
       "      <td>group 22593</td>\n",
       "      <td>2022-07-20</td>\n",
       "      <td>act2_230855</td>\n",
       "      <td>5126853</td>\n",
       "      <td>2022-07-20</td>\n",
       "      <td>0.0</td>\n",
       "    </tr>\n",
       "    <tr>\n",
       "      <th>2</th>\n",
       "      <td>group 25417</td>\n",
       "      <td>2022-10-14</td>\n",
       "      <td>act1_240724</td>\n",
       "      <td>6099814</td>\n",
       "      <td>2022-10-14</td>\n",
       "      <td>1.0</td>\n",
       "    </tr>\n",
       "    <tr>\n",
       "      <th>3</th>\n",
       "      <td>group 25417</td>\n",
       "      <td>2022-11-27</td>\n",
       "      <td>act1_83552</td>\n",
       "      <td>6099886</td>\n",
       "      <td>2022-11-27</td>\n",
       "      <td>1.0</td>\n",
       "    </tr>\n",
       "    <tr>\n",
       "      <th>4</th>\n",
       "      <td>group 25417</td>\n",
       "      <td>2022-10-15</td>\n",
       "      <td>act2_1043301</td>\n",
       "      <td>6099815</td>\n",
       "      <td>2022-10-15</td>\n",
       "      <td>1.0</td>\n",
       "    </tr>\n",
       "  </tbody>\n",
       "</table>\n",
       "</div>"
      ],
      "text/plain": [
       "       group_1      date_x   activity_id  Unnamed: 0        date  outcome\n",
       "0  group 22593  2022-07-20   act1_249281     5126853  2022-07-20      0.0\n",
       "1  group 22593  2022-07-20   act2_230855     5126853  2022-07-20      0.0\n",
       "2  group 25417  2022-10-14   act1_240724     6099814  2022-10-14      1.0\n",
       "3  group 25417  2022-11-27    act1_83552     6099886  2022-11-27      1.0\n",
       "4  group 25417  2022-10-15  act2_1043301     6099815  2022-10-15      1.0"
      ]
     },
     "execution_count": 12,
     "metadata": {},
     "output_type": "execute_result"
    }
   ],
   "source": [
    "merged = testData[0:5].merge(z,how='left',left_on = ['group_1','date_x'],right_on = ['group_1','date'])\n",
    "merged"
   ]
  },
  {
   "cell_type": "markdown",
   "metadata": {},
   "source": [
    "I realized the issue was actually with the duplicates I unintentionally introduced into the matrix of dates etc."
   ]
  },
  {
   "cell_type": "code",
   "execution_count": 13,
   "metadata": {
    "collapsed": true
   },
   "outputs": [],
   "source": [
    "merged = testData.merge(z,how='left',left_on = ['group_1','date_x'],right_on = ['group_1','date'])\n",
    "#merged.to_csv('merged.csv',sep=',')\n"
   ]
  },
  {
   "cell_type": "code",
   "execution_count": 10,
   "metadata": {
    "collapsed": false
   },
   "outputs": [
    {
     "data": {
      "text/html": [
       "<div>\n",
       "<table border=\"1\" class=\"dataframe\">\n",
       "  <thead>\n",
       "    <tr style=\"text-align: right;\">\n",
       "      <th></th>\n",
       "      <th>group_1</th>\n",
       "      <th>date_x</th>\n",
       "      <th>activity_id</th>\n",
       "      <th>Unnamed: 0</th>\n",
       "      <th>date</th>\n",
       "      <th>outcome</th>\n",
       "    </tr>\n",
       "  </thead>\n",
       "  <tbody>\n",
       "    <tr>\n",
       "      <th>0</th>\n",
       "      <td>group 22593</td>\n",
       "      <td>2022-07-20</td>\n",
       "      <td>act1_249281</td>\n",
       "      <td>5126853.0</td>\n",
       "      <td>2022-07-20</td>\n",
       "      <td>0.0</td>\n",
       "    </tr>\n",
       "    <tr>\n",
       "      <th>1</th>\n",
       "      <td>group 22593</td>\n",
       "      <td>2022-07-20</td>\n",
       "      <td>act2_230855</td>\n",
       "      <td>5126853.0</td>\n",
       "      <td>2022-07-20</td>\n",
       "      <td>0.0</td>\n",
       "    </tr>\n",
       "    <tr>\n",
       "      <th>2</th>\n",
       "      <td>group 25417</td>\n",
       "      <td>2022-10-14</td>\n",
       "      <td>act1_240724</td>\n",
       "      <td>6099814.0</td>\n",
       "      <td>2022-10-14</td>\n",
       "      <td>1.0</td>\n",
       "    </tr>\n",
       "    <tr>\n",
       "      <th>3</th>\n",
       "      <td>group 25417</td>\n",
       "      <td>2022-11-27</td>\n",
       "      <td>act1_83552</td>\n",
       "      <td>6099886.0</td>\n",
       "      <td>2022-11-27</td>\n",
       "      <td>1.0</td>\n",
       "    </tr>\n",
       "    <tr>\n",
       "      <th>4</th>\n",
       "      <td>group 25417</td>\n",
       "      <td>2022-10-15</td>\n",
       "      <td>act2_1043301</td>\n",
       "      <td>6099815.0</td>\n",
       "      <td>2022-10-15</td>\n",
       "      <td>1.0</td>\n",
       "    </tr>\n",
       "    <tr>\n",
       "      <th>5</th>\n",
       "      <td>group 25417</td>\n",
       "      <td>2022-11-27</td>\n",
       "      <td>act2_112890</td>\n",
       "      <td>6099886.0</td>\n",
       "      <td>2022-11-27</td>\n",
       "      <td>1.0</td>\n",
       "    </tr>\n",
       "    <tr>\n",
       "      <th>6</th>\n",
       "      <td>group 25417</td>\n",
       "      <td>2022-10-15</td>\n",
       "      <td>act2_1169930</td>\n",
       "      <td>6099815.0</td>\n",
       "      <td>2022-10-15</td>\n",
       "      <td>1.0</td>\n",
       "    </tr>\n",
       "    <tr>\n",
       "      <th>7</th>\n",
       "      <td>group 25417</td>\n",
       "      <td>2022-10-15</td>\n",
       "      <td>act2_1924448</td>\n",
       "      <td>6099815.0</td>\n",
       "      <td>2022-10-15</td>\n",
       "      <td>1.0</td>\n",
       "    </tr>\n",
       "    <tr>\n",
       "      <th>8</th>\n",
       "      <td>group 25417</td>\n",
       "      <td>2022-10-15</td>\n",
       "      <td>act2_1953554</td>\n",
       "      <td>6099815.0</td>\n",
       "      <td>2022-10-15</td>\n",
       "      <td>1.0</td>\n",
       "    </tr>\n",
       "    <tr>\n",
       "      <th>9</th>\n",
       "      <td>group 25417</td>\n",
       "      <td>2022-11-28</td>\n",
       "      <td>act2_1971739</td>\n",
       "      <td>6099887.0</td>\n",
       "      <td>2022-11-28</td>\n",
       "      <td>1.0</td>\n",
       "    </tr>\n",
       "  </tbody>\n",
       "</table>\n",
       "</div>"
      ],
      "text/plain": [
       "       group_1      date_x   activity_id  Unnamed: 0        date  outcome\n",
       "0  group 22593  2022-07-20   act1_249281   5126853.0  2022-07-20      0.0\n",
       "1  group 22593  2022-07-20   act2_230855   5126853.0  2022-07-20      0.0\n",
       "2  group 25417  2022-10-14   act1_240724   6099814.0  2022-10-14      1.0\n",
       "3  group 25417  2022-11-27    act1_83552   6099886.0  2022-11-27      1.0\n",
       "4  group 25417  2022-10-15  act2_1043301   6099815.0  2022-10-15      1.0\n",
       "5  group 25417  2022-11-27   act2_112890   6099886.0  2022-11-27      1.0\n",
       "6  group 25417  2022-10-15  act2_1169930   6099815.0  2022-10-15      1.0\n",
       "7  group 25417  2022-10-15  act2_1924448   6099815.0  2022-10-15      1.0\n",
       "8  group 25417  2022-10-15  act2_1953554   6099815.0  2022-10-15      1.0\n",
       "9  group 25417  2022-11-28  act2_1971739   6099887.0  2022-11-28      1.0"
      ]
     },
     "execution_count": 10,
     "metadata": {},
     "output_type": "execute_result"
    }
   ],
   "source": [
    "merged[:10]"
   ]
  },
  {
   "cell_type": "markdown",
   "metadata": {
    "collapsed": true
   },
   "source": [
    "Okay woop! It works now, no crazy memory crashes or anything! The next step is to pull the test values out that dont match and turn that into a separate csv. From there I create my actual prediction file and merge it with this one to create the submission file."
   ]
  },
  {
   "cell_type": "code",
   "execution_count": 14,
   "metadata": {
    "collapsed": true
   },
   "outputs": [],
   "source": [
    "act_test = pd.read_csv('/Users/Ben/Desktop/Predicting Red Hat Business Value/act_test.csv')"
   ]
  },
  {
   "cell_type": "code",
   "execution_count": 15,
   "metadata": {
    "collapsed": false
   },
   "outputs": [
    {
     "data": {
      "text/html": [
       "<div>\n",
       "<table border=\"1\" class=\"dataframe\">\n",
       "  <thead>\n",
       "    <tr style=\"text-align: right;\">\n",
       "      <th></th>\n",
       "      <th>people_id</th>\n",
       "      <th>activity_id</th>\n",
       "      <th>date_x</th>\n",
       "      <th>activity_category</th>\n",
       "      <th>char_1</th>\n",
       "      <th>char_2</th>\n",
       "      <th>char_3</th>\n",
       "      <th>char_4</th>\n",
       "      <th>char_5</th>\n",
       "      <th>char_6</th>\n",
       "      <th>char_7</th>\n",
       "      <th>char_8</th>\n",
       "      <th>char_9</th>\n",
       "      <th>char_10</th>\n",
       "      <th>group_1</th>\n",
       "      <th>date_x</th>\n",
       "      <th>Unnamed: 0</th>\n",
       "      <th>date_y</th>\n",
       "      <th>outcome</th>\n",
       "    </tr>\n",
       "  </thead>\n",
       "  <tbody>\n",
       "    <tr>\n",
       "      <th>0</th>\n",
       "      <td>ppl_100004</td>\n",
       "      <td>act1_249281</td>\n",
       "      <td>2022-07-20</td>\n",
       "      <td>type 1</td>\n",
       "      <td>type 5</td>\n",
       "      <td>type 10</td>\n",
       "      <td>type 5</td>\n",
       "      <td>type 1</td>\n",
       "      <td>type 6</td>\n",
       "      <td>type 1</td>\n",
       "      <td>type 1</td>\n",
       "      <td>type 7</td>\n",
       "      <td>type 4</td>\n",
       "      <td>NaN</td>\n",
       "      <td>group 22593</td>\n",
       "      <td>2022-07-20</td>\n",
       "      <td>5126853.0</td>\n",
       "      <td>2022-07-20</td>\n",
       "      <td>0.0</td>\n",
       "    </tr>\n",
       "    <tr>\n",
       "      <th>1</th>\n",
       "      <td>ppl_100004</td>\n",
       "      <td>act2_230855</td>\n",
       "      <td>2022-07-20</td>\n",
       "      <td>type 5</td>\n",
       "      <td>NaN</td>\n",
       "      <td>NaN</td>\n",
       "      <td>NaN</td>\n",
       "      <td>NaN</td>\n",
       "      <td>NaN</td>\n",
       "      <td>NaN</td>\n",
       "      <td>NaN</td>\n",
       "      <td>NaN</td>\n",
       "      <td>NaN</td>\n",
       "      <td>type 682</td>\n",
       "      <td>group 22593</td>\n",
       "      <td>2022-07-20</td>\n",
       "      <td>5126853.0</td>\n",
       "      <td>2022-07-20</td>\n",
       "      <td>0.0</td>\n",
       "    </tr>\n",
       "    <tr>\n",
       "      <th>2</th>\n",
       "      <td>ppl_10001</td>\n",
       "      <td>act1_240724</td>\n",
       "      <td>2022-10-14</td>\n",
       "      <td>type 1</td>\n",
       "      <td>type 12</td>\n",
       "      <td>type 1</td>\n",
       "      <td>type 5</td>\n",
       "      <td>type 4</td>\n",
       "      <td>type 6</td>\n",
       "      <td>type 1</td>\n",
       "      <td>type 1</td>\n",
       "      <td>type 13</td>\n",
       "      <td>type 10</td>\n",
       "      <td>NaN</td>\n",
       "      <td>group 25417</td>\n",
       "      <td>2022-10-14</td>\n",
       "      <td>6099814.0</td>\n",
       "      <td>2022-10-14</td>\n",
       "      <td>1.0</td>\n",
       "    </tr>\n",
       "    <tr>\n",
       "      <th>3</th>\n",
       "      <td>ppl_10001</td>\n",
       "      <td>act1_83552</td>\n",
       "      <td>2022-11-27</td>\n",
       "      <td>type 1</td>\n",
       "      <td>type 20</td>\n",
       "      <td>type 10</td>\n",
       "      <td>type 5</td>\n",
       "      <td>type 4</td>\n",
       "      <td>type 6</td>\n",
       "      <td>type 1</td>\n",
       "      <td>type 1</td>\n",
       "      <td>type 5</td>\n",
       "      <td>type 5</td>\n",
       "      <td>NaN</td>\n",
       "      <td>group 25417</td>\n",
       "      <td>2022-11-27</td>\n",
       "      <td>6099886.0</td>\n",
       "      <td>2022-11-27</td>\n",
       "      <td>1.0</td>\n",
       "    </tr>\n",
       "    <tr>\n",
       "      <th>4</th>\n",
       "      <td>ppl_10001</td>\n",
       "      <td>act2_1043301</td>\n",
       "      <td>2022-10-15</td>\n",
       "      <td>type 5</td>\n",
       "      <td>NaN</td>\n",
       "      <td>NaN</td>\n",
       "      <td>NaN</td>\n",
       "      <td>NaN</td>\n",
       "      <td>NaN</td>\n",
       "      <td>NaN</td>\n",
       "      <td>NaN</td>\n",
       "      <td>NaN</td>\n",
       "      <td>NaN</td>\n",
       "      <td>type 3015</td>\n",
       "      <td>group 25417</td>\n",
       "      <td>2022-10-15</td>\n",
       "      <td>6099815.0</td>\n",
       "      <td>2022-10-15</td>\n",
       "      <td>1.0</td>\n",
       "    </tr>\n",
       "  </tbody>\n",
       "</table>\n",
       "</div>"
      ],
      "text/plain": [
       "    people_id   activity_id      date_x activity_category   char_1   char_2  \\\n",
       "0  ppl_100004   act1_249281  2022-07-20            type 1   type 5  type 10   \n",
       "1  ppl_100004   act2_230855  2022-07-20            type 5      NaN      NaN   \n",
       "2   ppl_10001   act1_240724  2022-10-14            type 1  type 12   type 1   \n",
       "3   ppl_10001    act1_83552  2022-11-27            type 1  type 20  type 10   \n",
       "4   ppl_10001  act2_1043301  2022-10-15            type 5      NaN      NaN   \n",
       "\n",
       "   char_3  char_4  char_5  char_6  char_7   char_8   char_9    char_10  \\\n",
       "0  type 5  type 1  type 6  type 1  type 1   type 7   type 4        NaN   \n",
       "1     NaN     NaN     NaN     NaN     NaN      NaN      NaN   type 682   \n",
       "2  type 5  type 4  type 6  type 1  type 1  type 13  type 10        NaN   \n",
       "3  type 5  type 4  type 6  type 1  type 1   type 5   type 5        NaN   \n",
       "4     NaN     NaN     NaN     NaN     NaN      NaN      NaN  type 3015   \n",
       "\n",
       "       group_1      date_x  Unnamed: 0      date_y  outcome  \n",
       "0  group 22593  2022-07-20   5126853.0  2022-07-20      0.0  \n",
       "1  group 22593  2022-07-20   5126853.0  2022-07-20      0.0  \n",
       "2  group 25417  2022-10-14   6099814.0  2022-10-14      1.0  \n",
       "3  group 25417  2022-11-27   6099886.0  2022-11-27      1.0  \n",
       "4  group 25417  2022-10-15   6099815.0  2022-10-15      1.0  "
      ]
     },
     "execution_count": 15,
     "metadata": {},
     "output_type": "execute_result"
    }
   ],
   "source": [
    "filledData = act_test.merge(merged,on='activity_id')\n",
    "filledData[:5]"
   ]
  },
  {
   "cell_type": "markdown",
   "metadata": {},
   "source": [
    "AAAAAAnd the competition is closed to new entrants....whoops I should have read the end date more carefully."
   ]
  },
  {
   "cell_type": "code",
   "execution_count": null,
   "metadata": {
    "collapsed": true
   },
   "outputs": [],
   "source": []
  }
 ],
 "metadata": {
  "kernelspec": {
   "display_name": "Python 3",
   "language": "python",
   "name": "python3"
  },
  "language_info": {
   "codemirror_mode": {
    "name": "ipython",
    "version": 3
   },
   "file_extension": ".py",
   "mimetype": "text/x-python",
   "name": "python",
   "nbconvert_exporter": "python",
   "pygments_lexer": "ipython3",
   "version": "3.5.2"
  }
 },
 "nbformat": 4,
 "nbformat_minor": 0
}
