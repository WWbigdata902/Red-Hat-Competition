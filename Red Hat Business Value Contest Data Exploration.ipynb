{
 "cells": [
  {
   "cell_type": "markdown",
   "metadata": {},
   "source": [
    "<h3 align = 'center'><font color='#28abe3'>Kaggle Competition: Predicting Red Hat Business Value</font></h3>"
   ]
  },
  {
   "cell_type": "markdown",
   "metadata": {},
   "source": [
    "#### Introduction:"
   ]
  },
  {
   "cell_type": "markdown",
   "metadata": {},
   "source": [
    "\"This competition uses two separate data files that may be joined together to create a single, unified data table: a people file and an activity file.\n",
    "\n",
    "The people file contains all of the unique people (and the corresponding characteristics) that have performed activities over time. Each row in the people file represents a unique person. Each person has a unique people_id.\n",
    "\n",
    "The activity file contains all of the unique activities (and the corresponding activity characteristics) that each person has performed over time. Each row in the activity file represents a unique activity performed by a person on a certain date. Each activity has a unique activity_id.\n",
    "\n",
    "The challenge of this competition is to predict the potential business value of a person who has performed a specific activity. The business value outcome is defined by a yes/no field attached to each unique activity in the activity file. The outcome field indicates whether or not each person has completed the outcome within a fixed window of time after each unique activity was performed.\n",
    "\n",
    "The activity file contains several different categories of activities. Type 1 activities are different from type 2-7 activities because there are more known characteristics associated with type 1 activities (nine in total) than type 2-7 activities (which have only one associated characteristic).\""
   ]
  },
  {
   "cell_type": "markdown",
   "metadata": {},
   "source": [
    "Okay so first things first, it'll be good practice to do the join through sqlite instead of pandas so lets build an sqlite database for this."
   ]
  },
  {
   "cell_type": "code",
   "execution_count": 5,
   "metadata": {
    "collapsed": false
   },
   "outputs": [],
   "source": [
    "import sqlite3\n",
    "import pandas as pd\n",
    "import csv\n",
    "import os\n",
    "#set working directory equal to current directory\n",
    "currentDirectory = os.getcwd()\n",
    "os.chdir(currentDirectory)\n",
    "\n",
    "#import data\n",
    "peopleData = pd.read_csv('people.csv')\n",
    "peopleData.fillna('--')\n",
    "peopleData = list(peopleData.values)\n",
    "act_train = pd.read_csv('act_train.csv')\n",
    "act_train.fillna('--')\n",
    "act_train.insert(0, id, list(range(0,len(act_train))))\n",
    "act_train = list(act_train.values)\n",
    "#create sqlite database\n",
    "db = sqlite3.connect('RedHatDB.db')\n",
    "cursor = db.cursor()"
   ]
  },
  {
   "cell_type": "code",
   "execution_count": 6,
   "metadata": {
    "collapsed": false
   },
   "outputs": [
    {
     "data": {
      "text/plain": [
       "<sqlite3.Cursor at 0x1361d6f80>"
      ]
     },
     "execution_count": 6,
     "metadata": {},
     "output_type": "execute_result"
    }
   ],
   "source": [
    "#create tables\n",
    "cursor.execute('CREATE TABLE IF NOT EXISTS act_train(id INT PRIMARY KEY,people_id TEXT FOERIGN KEY, activity_id TEXT,date TEXT,activity_category TEXT,char_1 TEXT,char_2 TEXT,char_3 TEXT,char_4 TEXT,char_5 TEXT,char_6 TEXT,char_7 TEXT,char_8 TEXT,char_9 TEXT,char_10 TEXT,outcome INT)')\n",
    "cursor.execute('CREATE TABLE IF NOT EXISTS people(people_id TEXT PRIMARY KEY,char_1 TEXT,group_1 TEXT,char_2 TEXT,date TEXT,char_3 TEXT,char_4 TEXT,char_5 TEXT,char_6 TEXT,char_7 TEXT,char_8 TEXT,char_9 TEXT,char_10 TEXT,char_11 TEXT,char_12 TEXT,char_13 TEXT,char_14 TEXT,char_15 TEXT,char_16 TEXT,char_17 TEXT,char_18 TEXT,char_19 TEXT,char_20 TEXT,char_21 TEXT,char_22 TEXT,char_23 TEXT,char_24 TEXT,char_25 TEXT,char_26 TEXT,char_27 TEXT,char_28 TEXT,char_29 TEXT,char_30 TEXT,char_31 TEXT,char_32 TEXT,char_33 TEXT,char_34 TEXT,char_35 TEXT,char_36 TEXT,char_37 TEXT,char_38 TEXT)')\n"
   ]
  },
  {
   "cell_type": "code",
   "execution_count": 7,
   "metadata": {
    "collapsed": false
   },
   "outputs": [],
   "source": [
    "#Populate tables\n",
    "cursor.executemany('INSERT INTO people(people_id,char_1,group_1,char_2,date,char_3,char_4,char_5,char_6,char_7,char_8,char_9,char_10,char_11,char_12,char_13,char_14,char_15,char_16,char_17,char_18,char_19,char_20,char_21,char_22,char_23,char_24,char_25,char_26,char_27,char_28,char_29,char_30,char_31,char_32,char_33,char_34,char_35,char_36,char_37,char_38) VALUES (?,?,?,?,?,?,?,?,?,?,?,?,?,?,?,?,?,?,?,?,?,?,?,?,?,?,?,?,?,?,?,?,?,?,?,?,?,?,?,?,?)',\n",
    "              peopleData)\n",
    "cursor.executemany('INSERT INTO act_train(id,people_id, activity_id,date,activity_category,char_1,char_2,char_3,char_4,char_5,char_6,char_7,char_8,char_9,char_10,outcome) VALUES (?,?,?,?,?,?,?,?,?,?,?,?,?,?,?,?)',\n",
    "                  act_train)\n",
    "#close connection\n",
    "db.commit()\n",
    "db.close()"
   ]
  },
  {
   "cell_type": "code",
   "execution_count": 2,
   "metadata": {
    "collapsed": false
   },
   "outputs": [],
   "source": [
    "import sqlite3\n",
    "\n",
    "#join the tables\n",
    "db = sqlite3.connect('RedHatDB.db')\n",
    "cursor = db.cursor()\n",
    "\n",
    "cursor.execute('SELECT * FROM people INNER JOIN act_train ON people.people_id = act_train.people_id')\n",
    "z = cursor.fetchall()"
   ]
  },
  {
   "cell_type": "code",
   "execution_count": 3,
   "metadata": {
    "collapsed": false
   },
   "outputs": [],
   "source": [
    "import pandas as pd\n",
    "trainData = pd.DataFrame(z)"
   ]
  },
  {
   "cell_type": "markdown",
   "metadata": {},
   "source": [
    "The majority of the data is missing predictors for columns 46 through 54. The columns that arent missing those points are all missing 55 however. We can try filling in those predictions with their predicted values. Something to keep in the idea bank. Another big feature of this data is that nearly every predictor is categorical, a big pain.\n",
    "\n",
    "First things first, lets do some data exploration."
   ]
  },
  {
   "cell_type": "code",
   "execution_count": 4,
   "metadata": {
    "collapsed": false
   },
   "outputs": [],
   "source": [
    "act_train = pd.read_csv('act_train.csv')\n",
    "peopleData = pd.read_csv('people.csv')\n",
    "trainData = trainData.drop(41,1)\n",
    "# get the names back in there\n",
    "trainData = trainData.drop(1,1)\n",
    "trainData.columns = list(peopleData.columns[1:] ) + list(act_train.columns)\n"
   ]
  },
  {
   "cell_type": "code",
   "execution_count": 33,
   "metadata": {
    "collapsed": false
   },
   "outputs": [
    {
     "data": {
      "text/plain": [
       "Index(['people_id', 'char_1', 'group_1', 'char_2', 'date', 'char_3', 'char_4',\n",
       "       'char_5', 'char_6', 'char_7', 'char_8', 'char_9', 'char_10', 'char_11',\n",
       "       'char_12', 'char_13', 'char_14', 'char_15', 'char_16', 'char_17',\n",
       "       'char_18', 'char_19', 'char_20', 'char_21', 'char_22', 'char_23',\n",
       "       'char_24', 'char_25', 'char_26', 'char_27', 'char_28', 'char_29',\n",
       "       'char_30', 'char_31', 'char_32', 'char_33', 'char_34', 'char_35',\n",
       "       'char_36', 'char_37', 'char_38', 'people_id', 'activity_id', 'date',\n",
       "       'activity_category', 'char_1', 'char_2', 'char_3', 'char_4', 'char_5',\n",
       "       'char_6', 'char_7', 'char_8', 'char_9', 'char_10', 'outcome'],\n",
       "      dtype='object')"
      ]
     },
     "execution_count": 33,
     "metadata": {},
     "output_type": "execute_result"
    }
   ],
   "source": [
    "trainData.columns\n"
   ]
  },
  {
   "cell_type": "code",
   "execution_count": 34,
   "metadata": {
    "collapsed": false
   },
   "outputs": [
    {
     "data": {
      "text/html": [
       "<div>\n",
       "<table border=\"1\" class=\"dataframe\">\n",
       "  <thead>\n",
       "    <tr style=\"text-align: right;\">\n",
       "      <th></th>\n",
       "      <th>people_id</th>\n",
       "      <th>char_1</th>\n",
       "      <th>group_1</th>\n",
       "      <th>char_2</th>\n",
       "      <th>date</th>\n",
       "      <th>char_3</th>\n",
       "      <th>char_4</th>\n",
       "      <th>char_5</th>\n",
       "      <th>char_6</th>\n",
       "      <th>char_7</th>\n",
       "      <th>...</th>\n",
       "      <th>char_2</th>\n",
       "      <th>char_3</th>\n",
       "      <th>char_4</th>\n",
       "      <th>char_5</th>\n",
       "      <th>char_6</th>\n",
       "      <th>char_7</th>\n",
       "      <th>char_8</th>\n",
       "      <th>char_9</th>\n",
       "      <th>char_10</th>\n",
       "      <th>outcome</th>\n",
       "    </tr>\n",
       "  </thead>\n",
       "  <tbody>\n",
       "    <tr>\n",
       "      <th>0</th>\n",
       "      <td>ppl_100</td>\n",
       "      <td>type 2</td>\n",
       "      <td>group 17304</td>\n",
       "      <td>type 2</td>\n",
       "      <td>2021-06-29</td>\n",
       "      <td>type 5</td>\n",
       "      <td>type 5</td>\n",
       "      <td>type 5</td>\n",
       "      <td>type 3</td>\n",
       "      <td>type 11</td>\n",
       "      <td>...</td>\n",
       "      <td>None</td>\n",
       "      <td>None</td>\n",
       "      <td>None</td>\n",
       "      <td>None</td>\n",
       "      <td>None</td>\n",
       "      <td>None</td>\n",
       "      <td>None</td>\n",
       "      <td>None</td>\n",
       "      <td>type 76</td>\n",
       "      <td>0</td>\n",
       "    </tr>\n",
       "    <tr>\n",
       "      <th>1</th>\n",
       "      <td>ppl_100</td>\n",
       "      <td>type 2</td>\n",
       "      <td>group 17304</td>\n",
       "      <td>type 2</td>\n",
       "      <td>2021-06-29</td>\n",
       "      <td>type 5</td>\n",
       "      <td>type 5</td>\n",
       "      <td>type 5</td>\n",
       "      <td>type 3</td>\n",
       "      <td>type 11</td>\n",
       "      <td>...</td>\n",
       "      <td>None</td>\n",
       "      <td>None</td>\n",
       "      <td>None</td>\n",
       "      <td>None</td>\n",
       "      <td>None</td>\n",
       "      <td>None</td>\n",
       "      <td>None</td>\n",
       "      <td>None</td>\n",
       "      <td>type 1</td>\n",
       "      <td>0</td>\n",
       "    </tr>\n",
       "    <tr>\n",
       "      <th>2</th>\n",
       "      <td>ppl_100</td>\n",
       "      <td>type 2</td>\n",
       "      <td>group 17304</td>\n",
       "      <td>type 2</td>\n",
       "      <td>2021-06-29</td>\n",
       "      <td>type 5</td>\n",
       "      <td>type 5</td>\n",
       "      <td>type 5</td>\n",
       "      <td>type 3</td>\n",
       "      <td>type 11</td>\n",
       "      <td>...</td>\n",
       "      <td>None</td>\n",
       "      <td>None</td>\n",
       "      <td>None</td>\n",
       "      <td>None</td>\n",
       "      <td>None</td>\n",
       "      <td>None</td>\n",
       "      <td>None</td>\n",
       "      <td>None</td>\n",
       "      <td>type 1</td>\n",
       "      <td>0</td>\n",
       "    </tr>\n",
       "    <tr>\n",
       "      <th>3</th>\n",
       "      <td>ppl_100</td>\n",
       "      <td>type 2</td>\n",
       "      <td>group 17304</td>\n",
       "      <td>type 2</td>\n",
       "      <td>2021-06-29</td>\n",
       "      <td>type 5</td>\n",
       "      <td>type 5</td>\n",
       "      <td>type 5</td>\n",
       "      <td>type 3</td>\n",
       "      <td>type 11</td>\n",
       "      <td>...</td>\n",
       "      <td>None</td>\n",
       "      <td>None</td>\n",
       "      <td>None</td>\n",
       "      <td>None</td>\n",
       "      <td>None</td>\n",
       "      <td>None</td>\n",
       "      <td>None</td>\n",
       "      <td>None</td>\n",
       "      <td>type 1</td>\n",
       "      <td>0</td>\n",
       "    </tr>\n",
       "    <tr>\n",
       "      <th>4</th>\n",
       "      <td>ppl_100</td>\n",
       "      <td>type 2</td>\n",
       "      <td>group 17304</td>\n",
       "      <td>type 2</td>\n",
       "      <td>2021-06-29</td>\n",
       "      <td>type 5</td>\n",
       "      <td>type 5</td>\n",
       "      <td>type 5</td>\n",
       "      <td>type 3</td>\n",
       "      <td>type 11</td>\n",
       "      <td>...</td>\n",
       "      <td>None</td>\n",
       "      <td>None</td>\n",
       "      <td>None</td>\n",
       "      <td>None</td>\n",
       "      <td>None</td>\n",
       "      <td>None</td>\n",
       "      <td>None</td>\n",
       "      <td>None</td>\n",
       "      <td>type 1</td>\n",
       "      <td>0</td>\n",
       "    </tr>\n",
       "    <tr>\n",
       "      <th>5</th>\n",
       "      <td>ppl_100</td>\n",
       "      <td>type 2</td>\n",
       "      <td>group 17304</td>\n",
       "      <td>type 2</td>\n",
       "      <td>2021-06-29</td>\n",
       "      <td>type 5</td>\n",
       "      <td>type 5</td>\n",
       "      <td>type 5</td>\n",
       "      <td>type 3</td>\n",
       "      <td>type 11</td>\n",
       "      <td>...</td>\n",
       "      <td>None</td>\n",
       "      <td>None</td>\n",
       "      <td>None</td>\n",
       "      <td>None</td>\n",
       "      <td>None</td>\n",
       "      <td>None</td>\n",
       "      <td>None</td>\n",
       "      <td>None</td>\n",
       "      <td>type 1727</td>\n",
       "      <td>0</td>\n",
       "    </tr>\n",
       "    <tr>\n",
       "      <th>6</th>\n",
       "      <td>ppl_100002</td>\n",
       "      <td>type 2</td>\n",
       "      <td>group 8688</td>\n",
       "      <td>type 3</td>\n",
       "      <td>2021-01-06</td>\n",
       "      <td>type 28</td>\n",
       "      <td>type 9</td>\n",
       "      <td>type 5</td>\n",
       "      <td>type 3</td>\n",
       "      <td>type 11</td>\n",
       "      <td>...</td>\n",
       "      <td>None</td>\n",
       "      <td>None</td>\n",
       "      <td>None</td>\n",
       "      <td>None</td>\n",
       "      <td>None</td>\n",
       "      <td>None</td>\n",
       "      <td>None</td>\n",
       "      <td>None</td>\n",
       "      <td>type 1</td>\n",
       "      <td>1</td>\n",
       "    </tr>\n",
       "    <tr>\n",
       "      <th>7</th>\n",
       "      <td>ppl_100002</td>\n",
       "      <td>type 2</td>\n",
       "      <td>group 8688</td>\n",
       "      <td>type 3</td>\n",
       "      <td>2021-01-06</td>\n",
       "      <td>type 28</td>\n",
       "      <td>type 9</td>\n",
       "      <td>type 5</td>\n",
       "      <td>type 3</td>\n",
       "      <td>type 11</td>\n",
       "      <td>...</td>\n",
       "      <td>None</td>\n",
       "      <td>None</td>\n",
       "      <td>None</td>\n",
       "      <td>None</td>\n",
       "      <td>None</td>\n",
       "      <td>None</td>\n",
       "      <td>None</td>\n",
       "      <td>None</td>\n",
       "      <td>type 1</td>\n",
       "      <td>1</td>\n",
       "    </tr>\n",
       "    <tr>\n",
       "      <th>8</th>\n",
       "      <td>ppl_100003</td>\n",
       "      <td>type 2</td>\n",
       "      <td>group 33592</td>\n",
       "      <td>type 3</td>\n",
       "      <td>2022-06-10</td>\n",
       "      <td>type 4</td>\n",
       "      <td>type 8</td>\n",
       "      <td>type 5</td>\n",
       "      <td>type 2</td>\n",
       "      <td>type 5</td>\n",
       "      <td>...</td>\n",
       "      <td>None</td>\n",
       "      <td>None</td>\n",
       "      <td>None</td>\n",
       "      <td>None</td>\n",
       "      <td>None</td>\n",
       "      <td>None</td>\n",
       "      <td>None</td>\n",
       "      <td>None</td>\n",
       "      <td>type 1</td>\n",
       "      <td>1</td>\n",
       "    </tr>\n",
       "    <tr>\n",
       "      <th>9</th>\n",
       "      <td>ppl_100003</td>\n",
       "      <td>type 2</td>\n",
       "      <td>group 33592</td>\n",
       "      <td>type 3</td>\n",
       "      <td>2022-06-10</td>\n",
       "      <td>type 4</td>\n",
       "      <td>type 8</td>\n",
       "      <td>type 5</td>\n",
       "      <td>type 2</td>\n",
       "      <td>type 5</td>\n",
       "      <td>...</td>\n",
       "      <td>None</td>\n",
       "      <td>None</td>\n",
       "      <td>None</td>\n",
       "      <td>None</td>\n",
       "      <td>None</td>\n",
       "      <td>None</td>\n",
       "      <td>None</td>\n",
       "      <td>None</td>\n",
       "      <td>type 1</td>\n",
       "      <td>1</td>\n",
       "    </tr>\n",
       "  </tbody>\n",
       "</table>\n",
       "<p>10 rows × 56 columns</p>\n",
       "</div>"
      ],
      "text/plain": [
       "    people_id  char_1      group_1  char_2        date   char_3  char_4  \\\n",
       "0     ppl_100  type 2  group 17304  type 2  2021-06-29   type 5  type 5   \n",
       "1     ppl_100  type 2  group 17304  type 2  2021-06-29   type 5  type 5   \n",
       "2     ppl_100  type 2  group 17304  type 2  2021-06-29   type 5  type 5   \n",
       "3     ppl_100  type 2  group 17304  type 2  2021-06-29   type 5  type 5   \n",
       "4     ppl_100  type 2  group 17304  type 2  2021-06-29   type 5  type 5   \n",
       "5     ppl_100  type 2  group 17304  type 2  2021-06-29   type 5  type 5   \n",
       "6  ppl_100002  type 2   group 8688  type 3  2021-01-06  type 28  type 9   \n",
       "7  ppl_100002  type 2   group 8688  type 3  2021-01-06  type 28  type 9   \n",
       "8  ppl_100003  type 2  group 33592  type 3  2022-06-10   type 4  type 8   \n",
       "9  ppl_100003  type 2  group 33592  type 3  2022-06-10   type 4  type 8   \n",
       "\n",
       "   char_5  char_6   char_7   ...   char_2 char_3 char_4 char_5 char_6 char_7  \\\n",
       "0  type 5  type 3  type 11   ...     None   None   None   None   None   None   \n",
       "1  type 5  type 3  type 11   ...     None   None   None   None   None   None   \n",
       "2  type 5  type 3  type 11   ...     None   None   None   None   None   None   \n",
       "3  type 5  type 3  type 11   ...     None   None   None   None   None   None   \n",
       "4  type 5  type 3  type 11   ...     None   None   None   None   None   None   \n",
       "5  type 5  type 3  type 11   ...     None   None   None   None   None   None   \n",
       "6  type 5  type 3  type 11   ...     None   None   None   None   None   None   \n",
       "7  type 5  type 3  type 11   ...     None   None   None   None   None   None   \n",
       "8  type 5  type 2   type 5   ...     None   None   None   None   None   None   \n",
       "9  type 5  type 2   type 5   ...     None   None   None   None   None   None   \n",
       "\n",
       "  char_8 char_9    char_10 outcome  \n",
       "0   None   None    type 76       0  \n",
       "1   None   None     type 1       0  \n",
       "2   None   None     type 1       0  \n",
       "3   None   None     type 1       0  \n",
       "4   None   None     type 1       0  \n",
       "5   None   None  type 1727       0  \n",
       "6   None   None     type 1       1  \n",
       "7   None   None     type 1       1  \n",
       "8   None   None     type 1       1  \n",
       "9   None   None     type 1       1  \n",
       "\n",
       "[10 rows x 56 columns]"
      ]
     },
     "execution_count": 34,
     "metadata": {},
     "output_type": "execute_result"
    }
   ],
   "source": [
    "trainData[:10]"
   ]
  },
  {
   "cell_type": "markdown",
   "metadata": {},
   "source": [
    "So we have a bunch of 'char_x' data, a group_1, their people id, their activity id, the category of the activity and then a bunch more 'char' data as it pertains to the activity rather than the person. Lets start by looking at the people data.\n",
    "\n",
    "Activity category should be a good one. Lets take a look at the different category frequencies"
   ]
  },
  {
   "cell_type": "code",
   "execution_count": 5,
   "metadata": {
    "collapsed": false
   },
   "outputs": [
    {
     "data": {
      "text/plain": [
       "([<matplotlib.axis.XTick at 0x1eba72b70>,\n",
       "  <matplotlib.axis.XTick at 0x1eba72c88>,\n",
       "  <matplotlib.axis.XTick at 0x1eba60e10>,\n",
       "  <matplotlib.axis.XTick at 0x1ebeb3be0>,\n",
       "  <matplotlib.axis.XTick at 0x1ebebb630>,\n",
       "  <matplotlib.axis.XTick at 0x1ebebe080>,\n",
       "  <matplotlib.axis.XTick at 0x1ebebea90>],\n",
       " <a list of 7 Text xticklabel objects>)"
      ]
     },
     "execution_count": 5,
     "metadata": {},
     "output_type": "execute_result"
    },
    {
     "data": {
      "image/png": "[encoded data removed]",
      "text/plain": [
       "<matplotlib.figure.Figure at 0x1eb7ee470>"
      ]
     },
     "metadata": {},
     "output_type": "display_data"
    }
   ],
   "source": [
    "%matplotlib inline\n",
    "from matplotlib import pyplot as plt\n",
    "import collections\n",
    "x = collections.Counter(list(trainData['activity_category'].values))\n",
    "l = range(len(x.keys()))\n",
    "plt.bar(l, x.values(), align='center')\n",
    "plt.xticks(l, x.keys())"
   ]
  },
  {
   "cell_type": "code",
   "execution_count": 6,
   "metadata": {
    "collapsed": false
   },
   "outputs": [
    {
     "data": {
      "image/png": "[encoded data removed]",
      "text/plain": [
       "<matplotlib.figure.Figure at 0x1eba681d0>"
      ]
     },
     "metadata": {},
     "output_type": "display_data"
    },
    {
     "data": {
      "image/png": "[encoded data removed]",
      "text/plain": [
       "<matplotlib.figure.Figure at 0x1eba682b0>"
      ]
     },
     "metadata": {},
     "output_type": "display_data"
    },
    {
     "data": {
      "text/plain": [
       "<matplotlib.figure.Figure at 0x1ec030da0>"
      ]
     },
     "metadata": {},
     "output_type": "display_data"
    }
   ],
   "source": [
    "freq = []\n",
    "labels = []\n",
    "for i in trainData['activity_category'].unique():\n",
    "    occur = trainData[trainData['outcome'] == 1 ]\n",
    "    hits = occur[occur['activity_category'] == i]\n",
    "    freq.append(len(hits)/len(occur))\n",
    "    labels.append(i)\n",
    "\n",
    "xplode = [0,.05,0,0,0,0,0]\n",
    "colors = ['yellowgreen', 'gold', 'lightskyblue', 'lightcoral','teal','silver','red']\n",
    "plt.pie(freq, labels=labels,explode = xplode,shadow=True,colors = colors, startangle=138,autopct='%1.1f%%')\n",
    "# Set aspect ratio to be equal so that pie is drawn as a circle.\n",
    "plt.axis('equal')\n",
    "plt.title('Outcome = 1')\n",
    "fig = plt.figure()\n",
    "\n",
    "freq = []\n",
    "labels = []\n",
    "for i in trainData['activity_category'].unique():\n",
    "    occur = trainData[trainData['outcome'] == 0 ]\n",
    "    hits = occur[occur['activity_category'] == i]\n",
    "    freq.append(len(hits)/len(occur))\n",
    "    labels.append(i)\n",
    "\n",
    "xplode = [0,.05,0,0,0,0,0]\n",
    "colors = ['yellowgreen', 'gold', 'lightskyblue', 'lightcoral','teal','silver','red']\n",
    "plt.pie(freq, labels=labels,explode = xplode,shadow=True,colors = colors, startangle=135,autopct='%1.1f%%')\n",
    "# Set aspect ratio to be equal so that pie is drawn as a circle.\n",
    "plt.axis('equal')\n",
    "plt.title('Outcome = 0')\n",
    "fig = plt.figure()\n"
   ]
  },
  {
   "cell_type": "markdown",
   "metadata": {
    "collapsed": false
   },
   "source": [
    "Okay nothing super insightful, I feel like going through each of the char types is too big of a task so lets focus on the people. Lets try and see how much of our data is composed of heavy users."
   ]
  },
  {
   "cell_type": "code",
   "execution_count": 108,
   "metadata": {
    "collapsed": false
   },
   "outputs": [],
   "source": [
    "trainData = trainData.drop(trainData.columns[1],axis=1,inplace=True)\n"
   ]
  },
  {
   "cell_type": "code",
   "execution_count": 7,
   "metadata": {
    "collapsed": false
   },
   "outputs": [
    {
     "name": "stdout",
     "output_type": "stream",
     "text": [
      "2197291\n",
      "151295\n"
     ]
    }
   ],
   "source": [
    "print(len(trainData['people_id']))\n",
    "print(len(trainData['people_id'].unique()))"
   ]
  },
  {
   "cell_type": "code",
   "execution_count": 8,
   "metadata": {
    "collapsed": false
   },
   "outputs": [],
   "source": [
    "#how much of the data is composed of say the top 10 people_ids?\n",
    "x = collections.Counter(list(trainData['people_id'].values))"
   ]
  },
  {
   "cell_type": "code",
   "execution_count": 37,
   "metadata": {
    "collapsed": false
   },
   "outputs": [
    {
     "name": "stdout",
     "output_type": "stream",
     "text": [
      "9.10794246187692\n"
     ]
    }
   ],
   "source": [
    "print( sum(sorted(x.values())[len(x.values())-10:])/len(trainData) * 100 )"
   ]
  },
  {
   "cell_type": "markdown",
   "metadata": {},
   "source": [
    "So around 9% of the data is generated from the heaviest useres. Lets take a look at these users to see if there are some obvious trends I can pick up on."
   ]
  },
  {
   "cell_type": "code",
   "execution_count": 156,
   "metadata": {
    "collapsed": true
   },
   "outputs": [],
   "source": [
    "heavyUsers = [list(x.values()),list(x.keys())]"
   ]
  },
  {
   "cell_type": "code",
   "execution_count": 190,
   "metadata": {
    "collapsed": false
   },
   "outputs": [
    {
     "name": "stdout",
     "output_type": "stream",
     "text": [
      "20\n",
      "21\n",
      "22\n",
      "23\n"
     ]
    },
    {
     "data": {
      "image/png": "[encoded data removed]",
      "text/plain": [
       "<matplotlib.figure.Figure at 0x1f6926b38>"
      ]
     },
     "metadata": {},
     "output_type": "display_data"
    }
   ],
   "source": [
    "\n",
    "plt.figure(1)\n",
    "for i in list(range(20,24)):\n",
    "    print(i)\n",
    "    user = trainData['people_id'].values[i]\n",
    "    activity = act_train[act_train['people_id'] == user]\n",
    "    import datetime\n",
    "    dates = []\n",
    "    for j in list(range(0,len(activity))):\n",
    "        t = datetime.datetime.strptime(list(activity['date'].values)[j], '%Y-%m-%d')\n",
    "        dates.append(t)\n",
    "    plt.subplot(2,2,i-19)\n",
    "    plt.plot(dates,list(activity['outcome'].values[0:len(activity)]))\n",
    "plt.show()"
   ]
  },
  {
   "cell_type": "markdown",
   "metadata": {},
   "source": [
    "So users have almost 'signal' like behavior, for bursts their activity is on and for bursts its off so we can even think of this as true time series data for each user. There are a lot of different things to think about here. We have potentially multiple ways to break the model into smaller parts. One part considers the behaviour of a user, one which looks at the features of an action and so on."
   ]
  },
  {
   "cell_type": "code",
   "execution_count": null,
   "metadata": {
    "collapsed": true
   },
   "outputs": [],
   "source": []
  }
 ],
 "metadata": {
  "kernelspec": {
   "display_name": "Python 3",
   "language": "python",
   "name": "python3"
  },
  "language_info": {
   "codemirror_mode": {
    "name": "ipython",
    "version": 3
   },
   "file_extension": ".py",
   "mimetype": "text/x-python",
   "name": "python",
   "nbconvert_exporter": "python",
   "pygments_lexer": "ipython3",
   "version": "3.5.1"
  }
 },
 "nbformat": 4,
 "nbformat_minor": 0
}
